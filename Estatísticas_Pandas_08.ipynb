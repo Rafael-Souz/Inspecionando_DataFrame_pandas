{
  "nbformat": 4,
  "nbformat_minor": 0,
  "metadata": {
    "colab": {
      "name": "Estatísticas_Pandas-08.ipynb",
      "provenance": [],
      "collapsed_sections": [],
      "include_colab_link": true
    },
    "kernelspec": {
      "name": "python3",
      "display_name": "Python 3"
    },
    "language_info": {
      "name": "python"
    }
  },
  "cells": [
    {
      "cell_type": "markdown",
      "metadata": {
        "id": "view-in-github",
        "colab_type": "text"
      },
      "source": [
        "<a href=\"https://colab.research.google.com/github/Rafael-Souz/Inspecionando_DataFrame_pandas/blob/main/Estat%C3%ADsticas_Pandas_08.ipynb\" target=\"_parent\"><img src=\"https://colab.research.google.com/assets/colab-badge.svg\" alt=\"Open In Colab\"/></a>"
      ]
    },
    {
      "cell_type": "markdown",
      "source": [
        "# Estatísticas com Pandas\n",
        "\n",
        "* Média\n",
        "* Mediana\n",
        "* Moda\n",
        "* Desvio Padrão (Std)"
      ],
      "metadata": {
        "id": "XBNM3YV5RSAo"
      }
    },
    {
      "cell_type": "code",
      "execution_count": null,
      "metadata": {
        "id": "fMK-H1GyRQz5"
      },
      "outputs": [],
      "source": [
        "import pandas as pd"
      ]
    },
    {
      "cell_type": "code",
      "source": [
        "corona = pd.read_csv('http://emsapi.esy.es/datasets/covid_19_data.csv', index_col=0)"
      ],
      "metadata": {
        "id": "xZu7HabXULFa"
      },
      "execution_count": null,
      "outputs": []
    },
    {
      "cell_type": "code",
      "source": [
        "# Inspeção do DataFrame\n",
        "corona.head()"
      ],
      "metadata": {
        "colab": {
          "base_uri": "https://localhost:8080/",
          "height": 237
        },
        "id": "MbUBEqeyUaqk",
        "outputId": "b307c57e-759a-4af8-ca95-499b14d8d215"
      },
      "execution_count": null,
      "outputs": [
        {
          "output_type": "execute_result",
          "data": {
            "text/plain": [
              "    ObservationDate Province/State  Country/Region      Last Update  \\\n",
              "SNo                                                                   \n",
              "1        01/22/2020          Anhui  Mainland China  1/22/2020 17:00   \n",
              "2        01/22/2020        Beijing  Mainland China  1/22/2020 17:00   \n",
              "3        01/22/2020      Chongqing  Mainland China  1/22/2020 17:00   \n",
              "4        01/22/2020         Fujian  Mainland China  1/22/2020 17:00   \n",
              "5        01/22/2020          Gansu  Mainland China  1/22/2020 17:00   \n",
              "\n",
              "     Confirmed  Deaths  Recovered  \n",
              "SNo                                \n",
              "1          1.0     0.0        0.0  \n",
              "2         14.0     0.0        0.0  \n",
              "3          6.0     0.0        0.0  \n",
              "4          1.0     0.0        0.0  \n",
              "5          0.0     0.0        0.0  "
            ],
            "text/html": [
              "\n",
              "  <div id=\"df-fa2c7c33-e065-4aec-b0bc-d19c913675f5\">\n",
              "    <div class=\"colab-df-container\">\n",
              "      <div>\n",
              "<style scoped>\n",
              "    .dataframe tbody tr th:only-of-type {\n",
              "        vertical-align: middle;\n",
              "    }\n",
              "\n",
              "    .dataframe tbody tr th {\n",
              "        vertical-align: top;\n",
              "    }\n",
              "\n",
              "    .dataframe thead th {\n",
              "        text-align: right;\n",
              "    }\n",
              "</style>\n",
              "<table border=\"1\" class=\"dataframe\">\n",
              "  <thead>\n",
              "    <tr style=\"text-align: right;\">\n",
              "      <th></th>\n",
              "      <th>ObservationDate</th>\n",
              "      <th>Province/State</th>\n",
              "      <th>Country/Region</th>\n",
              "      <th>Last Update</th>\n",
              "      <th>Confirmed</th>\n",
              "      <th>Deaths</th>\n",
              "      <th>Recovered</th>\n",
              "    </tr>\n",
              "    <tr>\n",
              "      <th>SNo</th>\n",
              "      <th></th>\n",
              "      <th></th>\n",
              "      <th></th>\n",
              "      <th></th>\n",
              "      <th></th>\n",
              "      <th></th>\n",
              "      <th></th>\n",
              "    </tr>\n",
              "  </thead>\n",
              "  <tbody>\n",
              "    <tr>\n",
              "      <th>1</th>\n",
              "      <td>01/22/2020</td>\n",
              "      <td>Anhui</td>\n",
              "      <td>Mainland China</td>\n",
              "      <td>1/22/2020 17:00</td>\n",
              "      <td>1.0</td>\n",
              "      <td>0.0</td>\n",
              "      <td>0.0</td>\n",
              "    </tr>\n",
              "    <tr>\n",
              "      <th>2</th>\n",
              "      <td>01/22/2020</td>\n",
              "      <td>Beijing</td>\n",
              "      <td>Mainland China</td>\n",
              "      <td>1/22/2020 17:00</td>\n",
              "      <td>14.0</td>\n",
              "      <td>0.0</td>\n",
              "      <td>0.0</td>\n",
              "    </tr>\n",
              "    <tr>\n",
              "      <th>3</th>\n",
              "      <td>01/22/2020</td>\n",
              "      <td>Chongqing</td>\n",
              "      <td>Mainland China</td>\n",
              "      <td>1/22/2020 17:00</td>\n",
              "      <td>6.0</td>\n",
              "      <td>0.0</td>\n",
              "      <td>0.0</td>\n",
              "    </tr>\n",
              "    <tr>\n",
              "      <th>4</th>\n",
              "      <td>01/22/2020</td>\n",
              "      <td>Fujian</td>\n",
              "      <td>Mainland China</td>\n",
              "      <td>1/22/2020 17:00</td>\n",
              "      <td>1.0</td>\n",
              "      <td>0.0</td>\n",
              "      <td>0.0</td>\n",
              "    </tr>\n",
              "    <tr>\n",
              "      <th>5</th>\n",
              "      <td>01/22/2020</td>\n",
              "      <td>Gansu</td>\n",
              "      <td>Mainland China</td>\n",
              "      <td>1/22/2020 17:00</td>\n",
              "      <td>0.0</td>\n",
              "      <td>0.0</td>\n",
              "      <td>0.0</td>\n",
              "    </tr>\n",
              "  </tbody>\n",
              "</table>\n",
              "</div>\n",
              "      <button class=\"colab-df-convert\" onclick=\"convertToInteractive('df-fa2c7c33-e065-4aec-b0bc-d19c913675f5')\"\n",
              "              title=\"Convert this dataframe to an interactive table.\"\n",
              "              style=\"display:none;\">\n",
              "        \n",
              "  <svg xmlns=\"http://www.w3.org/2000/svg\" height=\"24px\"viewBox=\"0 0 24 24\"\n",
              "       width=\"24px\">\n",
              "    <path d=\"M0 0h24v24H0V0z\" fill=\"none\"/>\n",
              "    <path d=\"M18.56 5.44l.94 2.06.94-2.06 2.06-.94-2.06-.94-.94-2.06-.94 2.06-2.06.94zm-11 1L8.5 8.5l.94-2.06 2.06-.94-2.06-.94L8.5 2.5l-.94 2.06-2.06.94zm10 10l.94 2.06.94-2.06 2.06-.94-2.06-.94-.94-2.06-.94 2.06-2.06.94z\"/><path d=\"M17.41 7.96l-1.37-1.37c-.4-.4-.92-.59-1.43-.59-.52 0-1.04.2-1.43.59L10.3 9.45l-7.72 7.72c-.78.78-.78 2.05 0 2.83L4 21.41c.39.39.9.59 1.41.59.51 0 1.02-.2 1.41-.59l7.78-7.78 2.81-2.81c.8-.78.8-2.07 0-2.86zM5.41 20L4 18.59l7.72-7.72 1.47 1.35L5.41 20z\"/>\n",
              "  </svg>\n",
              "      </button>\n",
              "      \n",
              "  <style>\n",
              "    .colab-df-container {\n",
              "      display:flex;\n",
              "      flex-wrap:wrap;\n",
              "      gap: 12px;\n",
              "    }\n",
              "\n",
              "    .colab-df-convert {\n",
              "      background-color: #E8F0FE;\n",
              "      border: none;\n",
              "      border-radius: 50%;\n",
              "      cursor: pointer;\n",
              "      display: none;\n",
              "      fill: #1967D2;\n",
              "      height: 32px;\n",
              "      padding: 0 0 0 0;\n",
              "      width: 32px;\n",
              "    }\n",
              "\n",
              "    .colab-df-convert:hover {\n",
              "      background-color: #E2EBFA;\n",
              "      box-shadow: 0px 1px 2px rgba(60, 64, 67, 0.3), 0px 1px 3px 1px rgba(60, 64, 67, 0.15);\n",
              "      fill: #174EA6;\n",
              "    }\n",
              "\n",
              "    [theme=dark] .colab-df-convert {\n",
              "      background-color: #3B4455;\n",
              "      fill: #D2E3FC;\n",
              "    }\n",
              "\n",
              "    [theme=dark] .colab-df-convert:hover {\n",
              "      background-color: #434B5C;\n",
              "      box-shadow: 0px 1px 3px 1px rgba(0, 0, 0, 0.15);\n",
              "      filter: drop-shadow(0px 1px 2px rgba(0, 0, 0, 0.3));\n",
              "      fill: #FFFFFF;\n",
              "    }\n",
              "  </style>\n",
              "\n",
              "      <script>\n",
              "        const buttonEl =\n",
              "          document.querySelector('#df-fa2c7c33-e065-4aec-b0bc-d19c913675f5 button.colab-df-convert');\n",
              "        buttonEl.style.display =\n",
              "          google.colab.kernel.accessAllowed ? 'block' : 'none';\n",
              "\n",
              "        async function convertToInteractive(key) {\n",
              "          const element = document.querySelector('#df-fa2c7c33-e065-4aec-b0bc-d19c913675f5');\n",
              "          const dataTable =\n",
              "            await google.colab.kernel.invokeFunction('convertToInteractive',\n",
              "                                                     [key], {});\n",
              "          if (!dataTable) return;\n",
              "\n",
              "          const docLinkHtml = 'Like what you see? Visit the ' +\n",
              "            '<a target=\"_blank\" href=https://colab.research.google.com/notebooks/data_table.ipynb>data table notebook</a>'\n",
              "            + ' to learn more about interactive tables.';\n",
              "          element.innerHTML = '';\n",
              "          dataTable['output_type'] = 'display_data';\n",
              "          await google.colab.output.renderOutput(dataTable, element);\n",
              "          const docLink = document.createElement('div');\n",
              "          docLink.innerHTML = docLinkHtml;\n",
              "          element.appendChild(docLink);\n",
              "        }\n",
              "      </script>\n",
              "    </div>\n",
              "  </div>\n",
              "  "
            ]
          },
          "metadata": {},
          "execution_count": 4
        }
      ]
    },
    {
      "cell_type": "code",
      "source": [
        "corona.info()"
      ],
      "metadata": {
        "colab": {
          "base_uri": "https://localhost:8080/"
        },
        "id": "YCjE0g1KVZiW",
        "outputId": "066eea7e-de51-4e44-ee0c-80a9b5b2fc43"
      },
      "execution_count": null,
      "outputs": [
        {
          "output_type": "stream",
          "name": "stdout",
          "text": [
            "<class 'pandas.core.frame.DataFrame'>\n",
            "Int64Index: 98252 entries, 1 to 98252\n",
            "Data columns (total 7 columns):\n",
            " #   Column           Non-Null Count  Dtype  \n",
            "---  ------           --------------  -----  \n",
            " 0   ObservationDate  98252 non-null  object \n",
            " 1   Province/State   67099 non-null  object \n",
            " 2   Country/Region   98252 non-null  object \n",
            " 3   Last Update      98252 non-null  object \n",
            " 4   Confirmed        98252 non-null  float64\n",
            " 5   Deaths           98252 non-null  float64\n",
            " 6   Recovered        98252 non-null  float64\n",
            "dtypes: float64(3), object(4)\n",
            "memory usage: 6.0+ MB\n"
          ]
        }
      ]
    },
    {
      "cell_type": "code",
      "source": [
        "corona.shape"
      ],
      "metadata": {
        "colab": {
          "base_uri": "https://localhost:8080/"
        },
        "id": "yaR1zzFPVdiJ",
        "outputId": "860a4234-e8cf-4917-93b3-19449b4b4d19"
      },
      "execution_count": null,
      "outputs": [
        {
          "output_type": "execute_result",
          "data": {
            "text/plain": [
              "(98252, 7)"
            ]
          },
          "metadata": {},
          "execution_count": 6
        }
      ]
    },
    {
      "cell_type": "code",
      "source": [
        "# Estatística Básica com Pandas\n",
        "corona.describe()"
      ],
      "metadata": {
        "colab": {
          "base_uri": "https://localhost:8080/",
          "height": 279
        },
        "id": "IT-K_n6dVe-9",
        "outputId": "d7f6bd87-4639-4e3c-a49f-03241359870e"
      },
      "execution_count": null,
      "outputs": [
        {
          "output_type": "execute_result",
          "data": {
            "text/plain": [
              "           Confirmed        Deaths     Recovered\n",
              "count   98252.000000  98252.000000  9.825200e+04\n",
              "mean    15442.707232    692.502310  8.392821e+03\n",
              "std     46813.313272   2712.094164  4.751247e+04\n",
              "min         0.000000      0.000000  0.000000e+00\n",
              "25%       181.000000      2.000000  2.000000e+00\n",
              "50%      1622.000000     31.000000  2.870000e+02\n",
              "75%      8301.250000    264.000000  2.850000e+03\n",
              "max    801422.000000  42072.000000  2.140614e+06"
            ],
            "text/html": [
              "\n",
              "  <div id=\"df-a68b54f5-2a10-4623-abfd-6bc9ee3501db\">\n",
              "    <div class=\"colab-df-container\">\n",
              "      <div>\n",
              "<style scoped>\n",
              "    .dataframe tbody tr th:only-of-type {\n",
              "        vertical-align: middle;\n",
              "    }\n",
              "\n",
              "    .dataframe tbody tr th {\n",
              "        vertical-align: top;\n",
              "    }\n",
              "\n",
              "    .dataframe thead th {\n",
              "        text-align: right;\n",
              "    }\n",
              "</style>\n",
              "<table border=\"1\" class=\"dataframe\">\n",
              "  <thead>\n",
              "    <tr style=\"text-align: right;\">\n",
              "      <th></th>\n",
              "      <th>Confirmed</th>\n",
              "      <th>Deaths</th>\n",
              "      <th>Recovered</th>\n",
              "    </tr>\n",
              "  </thead>\n",
              "  <tbody>\n",
              "    <tr>\n",
              "      <th>count</th>\n",
              "      <td>98252.000000</td>\n",
              "      <td>98252.000000</td>\n",
              "      <td>9.825200e+04</td>\n",
              "    </tr>\n",
              "    <tr>\n",
              "      <th>mean</th>\n",
              "      <td>15442.707232</td>\n",
              "      <td>692.502310</td>\n",
              "      <td>8.392821e+03</td>\n",
              "    </tr>\n",
              "    <tr>\n",
              "      <th>std</th>\n",
              "      <td>46813.313272</td>\n",
              "      <td>2712.094164</td>\n",
              "      <td>4.751247e+04</td>\n",
              "    </tr>\n",
              "    <tr>\n",
              "      <th>min</th>\n",
              "      <td>0.000000</td>\n",
              "      <td>0.000000</td>\n",
              "      <td>0.000000e+00</td>\n",
              "    </tr>\n",
              "    <tr>\n",
              "      <th>25%</th>\n",
              "      <td>181.000000</td>\n",
              "      <td>2.000000</td>\n",
              "      <td>2.000000e+00</td>\n",
              "    </tr>\n",
              "    <tr>\n",
              "      <th>50%</th>\n",
              "      <td>1622.000000</td>\n",
              "      <td>31.000000</td>\n",
              "      <td>2.870000e+02</td>\n",
              "    </tr>\n",
              "    <tr>\n",
              "      <th>75%</th>\n",
              "      <td>8301.250000</td>\n",
              "      <td>264.000000</td>\n",
              "      <td>2.850000e+03</td>\n",
              "    </tr>\n",
              "    <tr>\n",
              "      <th>max</th>\n",
              "      <td>801422.000000</td>\n",
              "      <td>42072.000000</td>\n",
              "      <td>2.140614e+06</td>\n",
              "    </tr>\n",
              "  </tbody>\n",
              "</table>\n",
              "</div>\n",
              "      <button class=\"colab-df-convert\" onclick=\"convertToInteractive('df-a68b54f5-2a10-4623-abfd-6bc9ee3501db')\"\n",
              "              title=\"Convert this dataframe to an interactive table.\"\n",
              "              style=\"display:none;\">\n",
              "        \n",
              "  <svg xmlns=\"http://www.w3.org/2000/svg\" height=\"24px\"viewBox=\"0 0 24 24\"\n",
              "       width=\"24px\">\n",
              "    <path d=\"M0 0h24v24H0V0z\" fill=\"none\"/>\n",
              "    <path d=\"M18.56 5.44l.94 2.06.94-2.06 2.06-.94-2.06-.94-.94-2.06-.94 2.06-2.06.94zm-11 1L8.5 8.5l.94-2.06 2.06-.94-2.06-.94L8.5 2.5l-.94 2.06-2.06.94zm10 10l.94 2.06.94-2.06 2.06-.94-2.06-.94-.94-2.06-.94 2.06-2.06.94z\"/><path d=\"M17.41 7.96l-1.37-1.37c-.4-.4-.92-.59-1.43-.59-.52 0-1.04.2-1.43.59L10.3 9.45l-7.72 7.72c-.78.78-.78 2.05 0 2.83L4 21.41c.39.39.9.59 1.41.59.51 0 1.02-.2 1.41-.59l7.78-7.78 2.81-2.81c.8-.78.8-2.07 0-2.86zM5.41 20L4 18.59l7.72-7.72 1.47 1.35L5.41 20z\"/>\n",
              "  </svg>\n",
              "      </button>\n",
              "      \n",
              "  <style>\n",
              "    .colab-df-container {\n",
              "      display:flex;\n",
              "      flex-wrap:wrap;\n",
              "      gap: 12px;\n",
              "    }\n",
              "\n",
              "    .colab-df-convert {\n",
              "      background-color: #E8F0FE;\n",
              "      border: none;\n",
              "      border-radius: 50%;\n",
              "      cursor: pointer;\n",
              "      display: none;\n",
              "      fill: #1967D2;\n",
              "      height: 32px;\n",
              "      padding: 0 0 0 0;\n",
              "      width: 32px;\n",
              "    }\n",
              "\n",
              "    .colab-df-convert:hover {\n",
              "      background-color: #E2EBFA;\n",
              "      box-shadow: 0px 1px 2px rgba(60, 64, 67, 0.3), 0px 1px 3px 1px rgba(60, 64, 67, 0.15);\n",
              "      fill: #174EA6;\n",
              "    }\n",
              "\n",
              "    [theme=dark] .colab-df-convert {\n",
              "      background-color: #3B4455;\n",
              "      fill: #D2E3FC;\n",
              "    }\n",
              "\n",
              "    [theme=dark] .colab-df-convert:hover {\n",
              "      background-color: #434B5C;\n",
              "      box-shadow: 0px 1px 3px 1px rgba(0, 0, 0, 0.15);\n",
              "      filter: drop-shadow(0px 1px 2px rgba(0, 0, 0, 0.3));\n",
              "      fill: #FFFFFF;\n",
              "    }\n",
              "  </style>\n",
              "\n",
              "      <script>\n",
              "        const buttonEl =\n",
              "          document.querySelector('#df-a68b54f5-2a10-4623-abfd-6bc9ee3501db button.colab-df-convert');\n",
              "        buttonEl.style.display =\n",
              "          google.colab.kernel.accessAllowed ? 'block' : 'none';\n",
              "\n",
              "        async function convertToInteractive(key) {\n",
              "          const element = document.querySelector('#df-a68b54f5-2a10-4623-abfd-6bc9ee3501db');\n",
              "          const dataTable =\n",
              "            await google.colab.kernel.invokeFunction('convertToInteractive',\n",
              "                                                     [key], {});\n",
              "          if (!dataTable) return;\n",
              "\n",
              "          const docLinkHtml = 'Like what you see? Visit the ' +\n",
              "            '<a target=\"_blank\" href=https://colab.research.google.com/notebooks/data_table.ipynb>data table notebook</a>'\n",
              "            + ' to learn more about interactive tables.';\n",
              "          element.innerHTML = '';\n",
              "          dataTable['output_type'] = 'display_data';\n",
              "          await google.colab.output.renderOutput(dataTable, element);\n",
              "          const docLink = document.createElement('div');\n",
              "          docLink.innerHTML = docLinkHtml;\n",
              "          element.appendChild(docLink);\n",
              "        }\n",
              "      </script>\n",
              "    </div>\n",
              "  </div>\n",
              "  "
            ]
          },
          "metadata": {},
          "execution_count": 8
        }
      ]
    },
    {
      "cell_type": "code",
      "source": [
        "# Métodos do Pandas\n",
        "print('Média mean()', corona['Confirmed'].mean())\n",
        "print('Soma sum()', corona['Confirmed'].sum())\n",
        "print('Mediana median()', corona['Confirmed'].median())\n",
        "print('Desvio Padrão std()', corona['Confirmed'].std())\n",
        "print('Mínimo min()', corona['Confirmed'].min())\n",
        "print('Máximo max()', corona['Confirmed'].max())"
      ],
      "metadata": {
        "colab": {
          "base_uri": "https://localhost:8080/"
        },
        "id": "LtVw5z7GV_ZH",
        "outputId": "0f452e9d-e59a-4719-b9f9-5b4ca4e041f3"
      },
      "execution_count": null,
      "outputs": [
        {
          "output_type": "stream",
          "name": "stdout",
          "text": [
            "Média mean() 15442.70723242275\n",
            "Soma sum() 1517276871.0\n",
            "Mediana median() 1622.0\n",
            "Moda mode() 0    1.0\n",
            "dtype: float64\n",
            "Desvio Padrão std() 46813.31327228468\n",
            "Mínimo min() 0.0\n",
            "Máximo max() 801422.0\n"
          ]
        }
      ]
    },
    {
      "cell_type": "code",
      "source": [
        "# Agregando uma coluna de resultados\n",
        "corona['Confirmed + Deaths'] = corona['Confirmed'] + corona['Deaths']"
      ],
      "metadata": {
        "id": "tWfxfrwlejxM"
      },
      "execution_count": null,
      "outputs": []
    },
    {
      "cell_type": "code",
      "source": [
        "# Elaborar um algoritmo que mostre as estatísticas das colunas de um DataFrame\n",
        "colunas = ['Confirmed', 'Deaths', 'Recovered', 'Confirmed + Deaths']\n",
        "\n",
        "# percorrer todas as colunas do DataFrame\n",
        "for coluna in colunas:\n",
        "  print('Coluna:', coluna)\n",
        "  print('\\tMédia mean()', corona[coluna].mean())\n",
        "  print('\\tSoma sum()', corona[coluna].sum())\n",
        "  print('\\tMediana median()', corona[coluna].median())\n",
        "  print('\\tDesvio Padrão std()', corona[coluna].std())\n",
        "  print('\\tMínimo min()', corona[coluna].min())\n",
        "  print('\\tMáximo max()', corona[coluna].max())\n",
        "  print()"
      ],
      "metadata": {
        "id": "Vtbc_iU2X61Z"
      },
      "execution_count": null,
      "outputs": []
    },
    {
      "cell_type": "code",
      "source": [
        "colunas = (corona.select_dtypes(include=['float64']))\n",
        "\n",
        "for coluna in colunas:\n",
        "  print('Coluna:', coluna)\n",
        "  print('\\tMédia mean()', corona[coluna].mean())\n",
        "  print('\\tSoma sum()', corona[coluna].sum())\n",
        "  print('\\tMediana median()', corona[coluna].median())\n",
        "  print('\\tDesvio Padrão std()', corona[coluna].std())\n",
        "  print('\\tMínimo min()', corona[coluna].min())\n",
        "  print('\\tMáximo max()', corona[coluna].max())\n",
        "  print()"
      ],
      "metadata": {
        "colab": {
          "base_uri": "https://localhost:8080/"
        },
        "id": "e4r3FJn8gTrB",
        "outputId": "56a09974-5fd7-4539-a8b2-b30c5f417faf"
      },
      "execution_count": null,
      "outputs": [
        {
          "output_type": "stream",
          "name": "stdout",
          "text": [
            "Coluna: Confirmed\n",
            "\tMédia mean() 15442.70723242275\n",
            "\tSoma sum() 1517276871.0\n",
            "\tMediana median() 1622.0\n",
            "\tDesvio Padrão std() 46813.31327228468\n",
            "\tMínimo min() 0.0\n",
            "\tMáximo max() 801422.0\n",
            "\n",
            "Coluna: Deaths\n",
            "\tMédia mean() 692.5023103855392\n",
            "\tSoma sum() 68039737.0\n",
            "\tMediana median() 31.0\n",
            "\tDesvio Padrão std() 2712.094163680288\n",
            "\tMínimo min() 0.0\n",
            "\tMáximo max() 42072.0\n",
            "\n",
            "Coluna: Recovered\n",
            "\tMédia mean() 8392.821418393518\n",
            "\tSoma sum() 824611490.0\n",
            "\tMediana median() 287.0\n",
            "\tDesvio Padrão std() 47512.47468727016\n",
            "\tMínimo min() 0.0\n",
            "\tMáximo max() 2140614.0\n",
            "\n",
            "Coluna: Confirmed + Deaths\n",
            "\tMédia mean() 16135.209542808288\n",
            "\tSoma sum() 1585316608.0\n",
            "\tMediana median() 1669.0\n",
            "\tDesvio Padrão std() 48834.43465482634\n",
            "\tMínimo min() 0.0\n",
            "\tMáximo max() 831366.0\n",
            "\n"
          ]
        }
      ]
    },
    {
      "cell_type": "markdown",
      "source": [
        "## Criando Funções\n",
        "\n",
        "```\n",
        "def nome(parametros):\n",
        "  instruções...\n",
        "```"
      ],
      "metadata": {
        "id": "Q-7MhQ6HkRqk"
      }
    },
    {
      "cell_type": "code",
      "source": [
        "# Função somar()\n",
        "def somar(num1, num2):\n",
        "  return (num1 + num2)\n",
        "\n",
        "# Função multiplicar()\n",
        "def multiplicar(num1, num2):\n",
        "  return (num1 * num2)\n",
        "\n",
        "# Função soma_multiplica(num1, num2)  \n",
        "# Esta função deve retornar dois resultados separados: soma e multiplicação\n",
        "def soma_multiplica(num1, num2):\n",
        "  return (num1+num2), (num1*num2)"
      ],
      "metadata": {
        "id": "yblUvFWLh4jj"
      },
      "execution_count": null,
      "outputs": []
    },
    {
      "cell_type": "code",
      "source": [
        "soma_multiplica(2, 3)"
      ],
      "metadata": {
        "colab": {
          "base_uri": "https://localhost:8080/"
        },
        "id": "zfvU3UWmk0c6",
        "outputId": "a429ac68-6d45-4ca7-91bc-fe141dc187ba"
      },
      "execution_count": null,
      "outputs": [
        {
          "output_type": "execute_result",
          "data": {
            "text/plain": [
              "(5, 6)"
            ]
          },
          "metadata": {},
          "execution_count": 33
        }
      ]
    },
    {
      "cell_type": "code",
      "source": [
        "# Armazenando resultados de funções compostas (retorno múltiplo)\n",
        "soma, multiplicacao = soma_multiplica(2, 3)"
      ],
      "metadata": {
        "id": "_7aclYock5Fd"
      },
      "execution_count": null,
      "outputs": []
    },
    {
      "cell_type": "code",
      "source": [
        "print(soma)\n",
        "print(multiplicacao)"
      ],
      "metadata": {
        "colab": {
          "base_uri": "https://localhost:8080/"
        },
        "id": "KRprnVn_mQ6m",
        "outputId": "3472b343-e810-47db-a496-1dc391d5e875"
      },
      "execution_count": null,
      "outputs": [
        {
          "output_type": "stream",
          "name": "stdout",
          "text": [
            "5\n",
            "6\n"
          ]
        }
      ]
    },
    {
      "cell_type": "code",
      "source": [
        "# Podemos armazenar apenas um resultado da resposta\n",
        "soma = 0\n",
        "multiplicacao = 0\n",
        "\n",
        "_, multiplicacao = soma_multiplica(2, 3)\n",
        "print(soma)\n",
        "print(multiplicacao)"
      ],
      "metadata": {
        "colab": {
          "base_uri": "https://localhost:8080/"
        },
        "id": "kecq59nKmTrI",
        "outputId": "bb038d59-25fc-4e64-e1b8-92f3db8b1185"
      },
      "execution_count": null,
      "outputs": [
        {
          "output_type": "stream",
          "name": "stdout",
          "text": [
            "0\n",
            "6\n"
          ]
        }
      ]
    },
    {
      "cell_type": "code",
      "source": [
        "# Função com listas\n",
        "# Função para soma de múltiplos valores\n",
        "def somar2(valores):\n",
        "  return sum(valores)"
      ],
      "metadata": {
        "id": "gt6nZVIZm_sP"
      },
      "execution_count": null,
      "outputs": []
    },
    {
      "cell_type": "code",
      "source": [
        "somar2([1,2,3,4,5,6,7,8,9,10])"
      ],
      "metadata": {
        "colab": {
          "base_uri": "https://localhost:8080/"
        },
        "id": "o1hWPZ-UnBxE",
        "outputId": "37606004-0847-4962-c763-b18f1804a1c0"
      },
      "execution_count": null,
      "outputs": [
        {
          "output_type": "execute_result",
          "data": {
            "text/plain": [
              "55"
            ]
          },
          "metadata": {},
          "execution_count": 51
        }
      ]
    },
    {
      "cell_type": "code",
      "source": [
        "# Agora que você já sabe criar funções, crie uma que mostre as estatísticas\n",
        "# de todas as colunas numéricas (float64) de um DataFrame\n",
        "def estatisticas(dataframe):\n",
        "  colunas = (dataframe.select_dtypes(include=['float64']))\n",
        "\n",
        "  for coluna in colunas:\n",
        "    print('Coluna:', coluna)\n",
        "    print('\\tMédia mean()', corona[coluna].mean())\n",
        "    print('\\tSoma sum()', corona[coluna].sum())\n",
        "    print('\\tMediana median()', corona[coluna].median())\n",
        "    print('\\tDesvio Padrão std()', corona[coluna].std())\n",
        "    print('\\tMínimo min()', corona[coluna].min())\n",
        "    print('\\tMáximo max()', corona[coluna].max())\n",
        "    print()"
      ],
      "metadata": {
        "id": "YvuLnFWUn_5s"
      },
      "execution_count": null,
      "outputs": []
    },
    {
      "cell_type": "code",
      "source": [
        "estatisticas(corona)"
      ],
      "metadata": {
        "id": "b8eOje_nrDHo"
      },
      "execution_count": null,
      "outputs": []
    },
    {
      "cell_type": "code",
      "source": [
        "corona['nova'] = corona['Confirmed'] * 2"
      ],
      "metadata": {
        "id": "4c82EPGurE_6"
      },
      "execution_count": null,
      "outputs": []
    },
    {
      "cell_type": "code",
      "source": [
        "estatisticas(corona)"
      ],
      "metadata": {
        "id": "nsjU2cTGrYUC"
      },
      "execution_count": null,
      "outputs": []
    },
    {
      "cell_type": "markdown",
      "source": [
        "# Vamos Praticar\n",
        "\n",
        "Carregar o Dataset (`notas_alunos.csv`) e:\n",
        "*   Criar uma função para mostrar as informações (inpeções) iniciais\n",
        "*   Criar uma função para mostrar dados estatísticos como: média, mediana e desvio padrão"
      ],
      "metadata": {
        "id": "p-RYVFLTsUr3"
      }
    },
    {
      "cell_type": "code",
      "source": [
        "notas = pd.read_csv('http://emsapi.esy.es/datasets/notas_alunos.csv', index_col=0)"
      ],
      "metadata": {
        "id": "RzQOuLhrr4Ir"
      },
      "execution_count": null,
      "outputs": []
    },
    {
      "cell_type": "code",
      "source": [
        "def info(dados):\n",
        "  print(dados.info())\n",
        "  print(dados.describe())\n",
        "\n",
        "def estatisticas(dados):\n",
        "  colunas = (dados.select_dtypes(include=['float64']))\n",
        "\n",
        "  for coluna in colunas:\n",
        "    print('Coluna:', coluna)\n",
        "    print('\\tMédia mean()', dados[coluna].mean())\n",
        "    print('\\tMediana median()', dados[coluna].median())\n",
        "    print('\\tDesvio Padrão std()', dados[coluna].std())\n",
        "    print()  "
      ],
      "metadata": {
        "id": "5rHbuU3rtAkZ"
      },
      "execution_count": null,
      "outputs": []
    },
    {
      "cell_type": "code",
      "source": [
        "info(notas)"
      ],
      "metadata": {
        "colab": {
          "base_uri": "https://localhost:8080/"
        },
        "id": "4WiDWoJyvLwr",
        "outputId": "7d319e9d-5d3c-4590-9338-3002975256a0"
      },
      "execution_count": null,
      "outputs": [
        {
          "output_type": "stream",
          "name": "stdout",
          "text": [
            "<class 'pandas.core.frame.DataFrame'>\n",
            "Index: 50 entries, Abel Marques to Zeferino Granjeia\n",
            "Data columns (total 5 columns):\n",
            " #   Column  Non-Null Count  Dtype  \n",
            "---  ------  --------------  -----  \n",
            " 0   Nota1   50 non-null     float64\n",
            " 1   Nota2   50 non-null     float64\n",
            " 2   Nota3   50 non-null     float64\n",
            " 3   Nota4   50 non-null     float64\n",
            " 4   Nota5   50 non-null     float64\n",
            "dtypes: float64(5)\n",
            "memory usage: 2.3+ KB\n",
            "None\n",
            "           Nota1      Nota2      Nota3      Nota4      Nota5\n",
            "count  50.000000  50.000000  50.000000  50.000000  50.000000\n",
            "mean    4.737200   5.760000   4.480000   5.520000   5.620000\n",
            "std     2.992104   3.034227   2.936331   3.382066   3.069867\n",
            "min     0.000000   0.000000   0.000000   0.000000   0.000000\n",
            "25%     2.000000   3.000000   2.000000   3.000000   3.000000\n",
            "50%     5.500000   6.500000   4.500000   5.500000   6.000000\n",
            "75%     7.000000   8.000000   7.000000   8.000000   8.000000\n",
            "max     9.080000  10.000000   9.000000  10.000000  10.000000\n"
          ]
        }
      ]
    },
    {
      "cell_type": "code",
      "source": [
        "estatisticas(notas)"
      ],
      "metadata": {
        "colab": {
          "base_uri": "https://localhost:8080/"
        },
        "id": "BSz3AOD6vNXV",
        "outputId": "70c0e7c7-9e90-4786-e243-53670c724550"
      },
      "execution_count": null,
      "outputs": [
        {
          "output_type": "stream",
          "name": "stdout",
          "text": [
            "Coluna: Nota1\n",
            "\tMédia mean() 4.7372000000000005\n",
            "\tMediana median() 5.5\n",
            "\tDesvio Padrão std() 2.992103921582776\n",
            "\n",
            "Coluna: Nota2\n",
            "\tMédia mean() 5.76\n",
            "\tMediana median() 6.5\n",
            "\tDesvio Padrão std() 3.0342265261916253\n",
            "\n",
            "Coluna: Nota3\n",
            "\tMédia mean() 4.48\n",
            "\tMediana median() 4.5\n",
            "\tDesvio Padrão std() 2.936331183011639\n",
            "\n",
            "Coluna: Nota4\n",
            "\tMédia mean() 5.52\n",
            "\tMediana median() 5.5\n",
            "\tDesvio Padrão std() 3.3820655444474723\n",
            "\n",
            "Coluna: Nota5\n",
            "\tMédia mean() 5.62\n",
            "\tMediana median() 6.0\n",
            "\tDesvio Padrão std() 3.0698667125223955\n",
            "\n"
          ]
        }
      ]
    },
    {
      "cell_type": "code",
      "source": [
        ""
      ],
      "metadata": {
        "id": "y75igc-mwCOv"
      },
      "execution_count": null,
      "outputs": []
    }
  ]
}